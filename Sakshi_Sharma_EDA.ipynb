{
 "cells": [
  {
   "cell_type": "code",
   "execution_count": 3,
   "id": "8607b867-8f48-43f9-b90f-fd454ac3a68d",
   "metadata": {},
   "outputs": [],
   "source": [
    "import pandas as pd"
   ]
  },
  {
   "cell_type": "code",
   "execution_count": 13,
   "id": "473bd3ce-f1df-4b3e-ab89-6a63e5f8bfba",
   "metadata": {
    "scrolled": true
   },
   "outputs": [
    {
     "name": "stdout",
     "output_type": "stream",
     "text": [
      "Index(['CustomerID', 'CustomerName', 'Region', 'SignupDate'], dtype='object')\n"
     ]
    }
   ],
   "source": [
    "customer_df = pd.read_csv('Customers.csv')\n",
    "products_df = pd.read_csv('Products.csv')\n",
    "transactions_df = pd.read_csv('Transactions.csv')"
   ]
  },
  {
   "cell_type": "code",
   "execution_count": 15,
   "id": "79b257ea-d211-44f4-bd8b-2f9a0dd0e29e",
   "metadata": {},
   "outputs": [
    {
     "name": "stdout",
     "output_type": "stream",
     "text": [
      "Dataset: Customers\n",
      "<class 'pandas.core.frame.DataFrame'>\n",
      "RangeIndex: 200 entries, 0 to 199\n",
      "Data columns (total 4 columns):\n",
      " #   Column        Non-Null Count  Dtype \n",
      "---  ------        --------------  ----- \n",
      " 0   CustomerID    200 non-null    object\n",
      " 1   CustomerName  200 non-null    object\n",
      " 2   Region        200 non-null    object\n",
      " 3   SignupDate    200 non-null    object\n",
      "dtypes: object(4)\n",
      "memory usage: 6.4+ KB\n",
      "None\n",
      "\n",
      "Missing Values:\n",
      " CustomerID      0\n",
      "CustomerName    0\n",
      "Region          0\n",
      "SignupDate      0\n",
      "dtype: int64\n",
      "--------------------------------------------------\n",
      "Dataset: Products\n",
      "<class 'pandas.core.frame.DataFrame'>\n",
      "RangeIndex: 100 entries, 0 to 99\n",
      "Data columns (total 4 columns):\n",
      " #   Column       Non-Null Count  Dtype  \n",
      "---  ------       --------------  -----  \n",
      " 0   ProductID    100 non-null    object \n",
      " 1   ProductName  100 non-null    object \n",
      " 2   Category     100 non-null    object \n",
      " 3   Price        100 non-null    float64\n",
      "dtypes: float64(1), object(3)\n",
      "memory usage: 3.3+ KB\n",
      "None\n",
      "\n",
      "Missing Values:\n",
      " ProductID      0\n",
      "ProductName    0\n",
      "Category       0\n",
      "Price          0\n",
      "dtype: int64\n",
      "--------------------------------------------------\n",
      "Dataset: Transactions\n",
      "<class 'pandas.core.frame.DataFrame'>\n",
      "RangeIndex: 1000 entries, 0 to 999\n",
      "Data columns (total 7 columns):\n",
      " #   Column           Non-Null Count  Dtype  \n",
      "---  ------           --------------  -----  \n",
      " 0   TransactionID    1000 non-null   object \n",
      " 1   CustomerID       1000 non-null   object \n",
      " 2   ProductID        1000 non-null   object \n",
      " 3   TransactionDate  1000 non-null   object \n",
      " 4   Quantity         1000 non-null   int64  \n",
      " 5   TotalValue       1000 non-null   float64\n",
      " 6   Price            1000 non-null   float64\n",
      "dtypes: float64(2), int64(1), object(4)\n",
      "memory usage: 54.8+ KB\n",
      "None\n",
      "\n",
      "Missing Values:\n",
      " TransactionID      0\n",
      "CustomerID         0\n",
      "ProductID          0\n",
      "TransactionDate    0\n",
      "Quantity           0\n",
      "TotalValue         0\n",
      "Price              0\n",
      "dtype: int64\n",
      "--------------------------------------------------\n"
     ]
    }
   ],
   "source": [
    "# 1. Basic Info and Missing Values\n",
    "def print_basic_info(df, name):\n",
    "    print(f\"Dataset: {name}\")\n",
    "    print(df.info())\n",
    "    print(\"\\nMissing Values:\\n\", df.isnull().sum())\n",
    "    print(\"-\" * 50)\n",
    "\n",
    "print_basic_info(customer_df, \"Customers\")\n",
    "print_basic_info(products_df, \"Products\")\n",
    "print_basic_info(transactions_df, \"Transactions\")"
   ]
  },
  {
   "cell_type": "code",
   "execution_count": 17,
   "id": "19974650-4241-4796-b7e5-5284af47f8e2",
   "metadata": {},
   "outputs": [
    {
     "name": "stdout",
     "output_type": "stream",
     "text": [
      "\n",
      "Summary Statistics:\n",
      "Customers Dataset:\n",
      "        CustomerID      CustomerName         Region  SignupDate\n",
      "count         200               200            200         200\n",
      "unique        200               200              4         179\n",
      "top         C0001  Lawrence Carroll  South America  2024-11-11\n",
      "freq            1                 1             59           3\n",
      "\n",
      "Products Dataset:\n",
      "        ProductID            ProductName Category       Price\n",
      "count        100                    100      100  100.000000\n",
      "unique       100                     66        4         NaN\n",
      "top         P001  ActiveWear Smartwatch    Books         NaN\n",
      "freq           1                      4       26         NaN\n",
      "mean         NaN                    NaN      NaN  267.551700\n",
      "std          NaN                    NaN      NaN  143.219383\n",
      "min          NaN                    NaN      NaN   16.080000\n",
      "25%          NaN                    NaN      NaN  147.767500\n",
      "50%          NaN                    NaN      NaN  292.875000\n",
      "75%          NaN                    NaN      NaN  397.090000\n",
      "max          NaN                    NaN      NaN  497.760000\n",
      "\n",
      "Transactions Dataset:\n",
      "        TransactionID CustomerID ProductID      TransactionDate     Quantity  \\\n",
      "count           1000       1000      1000                 1000  1000.000000   \n",
      "unique          1000        199       100                 1000          NaN   \n",
      "top           T00001      C0109      P059  2024-08-25 12:38:23          NaN   \n",
      "freq               1         11        19                    1          NaN   \n",
      "mean             NaN        NaN       NaN                  NaN     2.537000   \n",
      "std              NaN        NaN       NaN                  NaN     1.117981   \n",
      "min              NaN        NaN       NaN                  NaN     1.000000   \n",
      "25%              NaN        NaN       NaN                  NaN     2.000000   \n",
      "50%              NaN        NaN       NaN                  NaN     3.000000   \n",
      "75%              NaN        NaN       NaN                  NaN     4.000000   \n",
      "max              NaN        NaN       NaN                  NaN     4.000000   \n",
      "\n",
      "         TotalValue       Price  \n",
      "count   1000.000000  1000.00000  \n",
      "unique          NaN         NaN  \n",
      "top             NaN         NaN  \n",
      "freq            NaN         NaN  \n",
      "mean     689.995560   272.55407  \n",
      "std      493.144478   140.73639  \n",
      "min       16.080000    16.08000  \n",
      "25%      295.295000   147.95000  \n",
      "50%      588.880000   299.93000  \n",
      "75%     1011.660000   404.40000  \n",
      "max     1991.040000   497.76000  \n"
     ]
    }
   ],
   "source": [
    "# 2. Summary Statistics\n",
    "print(\"\\nSummary Statistics:\")\n",
    "print(\"Customers Dataset:\\n\", customer_df.describe(include='all'))\n",
    "print(\"\\nProducts Dataset:\\n\", products_df.describe(include='all'))\n",
    "print(\"\\nTransactions Dataset:\\n\", transactions_df.describe(include='all'))"
   ]
  },
  {
   "cell_type": "code",
   "execution_count": 19,
   "id": "8874bba0-c95a-4892-b588-bc6dcd4c2d12",
   "metadata": {},
   "outputs": [
    {
     "name": "stdout",
     "output_type": "stream",
     "text": [
      "\n",
      "Unique Counts:\n",
      "Customers:\n",
      " CustomerID      200\n",
      "CustomerName    200\n",
      "Region            4\n",
      "SignupDate      179\n",
      "dtype: int64\n",
      "\n",
      "Products:\n",
      " ProductID      100\n",
      "ProductName     66\n",
      "Category         4\n",
      "Price          100\n",
      "dtype: int64\n",
      "\n",
      "Transactions:\n",
      " TransactionID      1000\n",
      "CustomerID          199\n",
      "ProductID           100\n",
      "TransactionDate    1000\n",
      "Quantity              4\n",
      "TotalValue          369\n",
      "Price               100\n",
      "dtype: int64\n"
     ]
    }
   ],
   "source": [
    "# 3. Unique Values and Distributions\n",
    "print(\"\\nUnique Counts:\")\n",
    "print(\"Customers:\\n\", customer_df.nunique())\n",
    "print(\"\\nProducts:\\n\", products_df.nunique())\n",
    "print(\"\\nTransactions:\\n\", transactions_df.nunique())"
   ]
  },
  {
   "cell_type": "code",
   "execution_count": 21,
   "id": "6688dc12-e76e-4307-8f13-f6ddcfc32cda",
   "metadata": {},
   "outputs": [
    {
     "name": "stdout",
     "output_type": "stream",
     "text": [
      "\n",
      "Signup Trends by Year:\n",
      " SignupDate\n",
      "2024    79\n",
      "2022    64\n",
      "2023    57\n",
      "Name: count, dtype: int64\n",
      "\n",
      "Top Products by Sales:\n",
      " ProductID\n",
      "P059    46\n",
      "P054    46\n",
      "P029    45\n",
      "P079    43\n",
      "P061    43\n",
      "P057    43\n",
      "P048    43\n",
      "P062    39\n",
      "P020    38\n",
      "P028    38\n",
      "Name: Quantity, dtype: int64\n",
      "\n",
      "Revenue by Product:\n",
      " ProductID\n",
      "P029    19513.80\n",
      "P079    17946.91\n",
      "P048    17905.20\n",
      "P020    15060.92\n",
      "P062    14592.24\n",
      "P059    13947.20\n",
      "P039    13778.88\n",
      "P083    13671.60\n",
      "P019    13487.95\n",
      "P041    13232.12\n",
      "Name: TotalValue, dtype: float64\n",
      "\n",
      "Transactions Over Time:\n",
      " TransactionDate\n",
      "2023-12-30    1\n",
      "2023-12-31    3\n",
      "2024-01-01    4\n",
      "2024-01-02    4\n",
      "2024-01-03    4\n",
      "             ..\n",
      "2024-12-24    3\n",
      "2024-12-25    4\n",
      "2024-12-26    6\n",
      "2024-12-27    2\n",
      "2024-12-28    1\n",
      "Name: count, Length: 337, dtype: int64\n",
      "\n",
      "Revenue by Region:\n",
      " Region\n",
      "South America    219352.56\n",
      "Europe           166254.63\n",
      "North America    152313.40\n",
      "Asia             152074.97\n",
      "Name: TotalValue, dtype: float64\n"
     ]
    }
   ],
   "source": [
    "# 4. Key Metrics\n",
    "# Customer Signup Trends\n",
    "customer_df['SignupDate'] = pd.to_datetime(customer_df['SignupDate'])\n",
    "signup_trends = customer_df['SignupDate'].dt.year.value_counts()\n",
    "\n",
    "# Top Products by Sales\n",
    "top_products = transactions_df.groupby('ProductID')['Quantity'].sum().sort_values(ascending=False)\n",
    "\n",
    "# Revenue by Product\n",
    "transactions_df['TotalValue'] = transactions_df['Price'] * transactions_df['Quantity']\n",
    "revenue_by_product = transactions_df.groupby('ProductID')['TotalValue'].sum().sort_values(ascending=False)\n",
    "\n",
    "# Transactions Over Time\n",
    "transactions_df['TransactionDate'] = pd.to_datetime(transactions_df['TransactionDate'])\n",
    "transactions_over_time = transactions_df['TransactionDate'].dt.date.value_counts().sort_index()\n",
    "\n",
    "# Revenue by Region\n",
    "revenue_by_region = transactions_df.merge(customer_df, on='CustomerID') \\\n",
    "    .groupby('Region')['TotalValue'].sum().sort_values(ascending=False)\n",
    "\n",
    "# Insights Summary\n",
    "print(\"\\nSignup Trends by Year:\\n\", signup_trends)\n",
    "print(\"\\nTop Products by Sales:\\n\", top_products.head(10))\n",
    "print(\"\\nRevenue by Product:\\n\", revenue_by_product.head(10))\n",
    "print(\"\\nTransactions Over Time:\\n\", transactions_over_time)\n",
    "print(\"\\nRevenue by Region:\\n\", revenue_by_region)"
   ]
  },
  {
   "cell_type": "code",
   "execution_count": 23,
   "id": "44d3fd59-c149-4a6f-816d-b1490c2ad81c",
   "metadata": {},
   "outputs": [
    {
     "data": {
      "image/png": "[encoded data removed]",
      "text/plain": [
       "<Figure size 1000x600 with 1 Axes>"
      ]
     },
     "metadata": {},
     "output_type": "display_data"
    },
    {
     "data": {
      "image/png": "[encoded data removed]",
      "text/plain": [
       "<Figure size 1000x600 with 1 Axes>"
      ]
     },
     "metadata": {},
     "output_type": "display_data"
    }
   ],
   "source": [
    "# 5. Visualization (Optional for deeper insights)\n",
    "import matplotlib.pyplot as plt\n",
    "\n",
    "# Plotting Signup Trends\n",
    "plt.figure(figsize=(10, 6))\n",
    "signup_trends.plot(kind='bar', color='skyblue')\n",
    "plt.title(\"Customer Signup Trends by Year\")\n",
    "plt.xlabel(\"Year\")\n",
    "plt.ylabel(\"Number of Signups\")\n",
    "plt.show()\n",
    "\n",
    "# Plotting Revenue by Region\n",
    "plt.figure(figsize=(10, 6))\n",
    "revenue_by_region.plot(kind='bar', color='orange')\n",
    "plt.title(\"Revenue by Region\")\n",
    "plt.xlabel(\"Region\")\n",
    "plt.ylabel(\"Total Revenue (USD)\")\n",
    "plt.show()"
   ]
  }
 ],
 "metadata": {
  "kernelspec": {
   "display_name": "Python 3 (ipykernel)",
   "language": "python",
   "name": "python3"
  },
  "language_info": {
   "codemirror_mode": {
    "name": "ipython",
    "version": 3
   },
   "file_extension": ".py",
   "mimetype": "text/x-python",
   "name": "python",
   "nbconvert_exporter": "python",
   "pygments_lexer": "ipython3",
   "version": "3.12.7"
  }
 },
 "nbformat": 4,
 "nbformat_minor": 5
}
